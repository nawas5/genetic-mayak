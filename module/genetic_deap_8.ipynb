{
 "cells": [
  {
   "cell_type": "code",
   "execution_count": 1,
   "metadata": {
    "collapsed": true
   },
   "outputs": [],
   "source": [
    "# задача про кораблики\n",
    "from deap import base, algorithms\n",
    "from deap import creator\n",
    "from deap import tools\n",
    "\n",
    "import algelitism\n",
    "from graph_show import show_graph, show_ships\n",
    "\n",
    "import random\n",
    "import matplotlib.pyplot as plt\n",
    "import numpy as np"
   ]
  },
  {
   "cell_type": "code",
   "execution_count": 2,
   "outputs": [],
   "source": [
    "POLE_SIZE = 7\n",
    "SHIPS = 4\n",
    "LENGTH_CHROM = 3*SHIPS    # длина хромосомы, подлежащей оптимизации\n",
    "\n",
    "# константы генетического алгоритма\n",
    "POPULATION_SIZE = 200   # количество индивидуумов в популяции\n",
    "P_CROSSOVER = 0.9       # вероятность скрещивания\n",
    "P_MUTATION = 0.2        # вероятность мутации индивидуума\n",
    "MAX_GENERATIONS = 50    # максимальное количество поколений\n",
    "HALL_OF_FAME_SIZE = 1\n",
    "\n",
    "hof = tools.HallOfFame(HALL_OF_FAME_SIZE)\n",
    "\n",
    "RANDOM_SEED = 42\n",
    "random.seed(RANDOM_SEED)\n",
    "\n",
    "creator.create(\"FitnessMin\", base.Fitness, weights=(-1.0,))\n",
    "creator.create(\"Individual\", list, fitness=creator.FitnessMin)"
   ],
   "metadata": {
    "collapsed": false,
    "pycharm": {
     "name": "#%%\n"
    }
   }
  },
  {
   "cell_type": "code",
   "execution_count": 3,
   "outputs": [
    {
     "name": "stdout",
     "output_type": "stream",
     "text": [
      "gen\tnevals\tmin\tavg  \n",
      "0  \t200   \t0  \t1.833\n",
      "1  \t173   \t0  \t1.013\n",
      "2  \t182   \t0  \t0.887\n",
      "3  \t167   \t0  \t0.734\n",
      "4  \t188   \t0  \t0.939\n",
      "5  \t185   \t0  \t0.79 \n",
      "6  \t178   \t0  \t0.659\n",
      "7  \t179   \t0  \t0.81 \n",
      "8  \t185   \t0  \t0.778\n",
      "9  \t186   \t0  \t0.838\n",
      "10 \t179   \t0  \t0.794\n",
      "11 \t188   \t0  \t0.755\n",
      "12 \t179   \t0  \t0.666\n",
      "13 \t186   \t0  \t0.39 \n",
      "14 \t179   \t0  \t0.645\n",
      "15 \t170   \t0  \t0.467\n",
      "16 \t184   \t0  \t0.506\n",
      "17 \t179   \t0  \t0.647\n",
      "18 \t188   \t0  \t0.673\n",
      "19 \t179   \t0  \t0.465\n",
      "20 \t165   \t0  \t0.476\n",
      "21 \t182   \t0  \t0.451\n",
      "22 \t178   \t0  \t0.633\n",
      "23 \t177   \t0  \t0.47 \n",
      "24 \t181   \t0  \t0.564\n",
      "25 \t188   \t0  \t0.304\n",
      "26 \t186   \t0  \t0.447\n",
      "27 \t188   \t0  \t0.358\n",
      "28 \t184   \t0  \t0.384\n",
      "29 \t189   \t0  \t0.393\n",
      "30 \t185   \t0  \t0.347\n",
      "31 \t178   \t0  \t0.273\n",
      "32 \t181   \t0  \t0.268\n",
      "33 \t179   \t0  \t0.36 \n",
      "34 \t185   \t0  \t0.297\n",
      "35 \t181   \t0  \t0.184\n",
      "36 \t194   \t0  \t0.218\n",
      "37 \t186   \t0  \t0.258\n",
      "38 \t178   \t0  \t0.212\n",
      "39 \t179   \t0  \t0.173\n",
      "40 \t172   \t0  \t0.197\n",
      "41 \t181   \t0  \t0.26 \n",
      "42 \t174   \t0  \t0.188\n",
      "43 \t188   \t0  \t0.228\n",
      "44 \t186   \t0  \t0.264\n",
      "45 \t189   \t0  \t0.2  \n",
      "46 \t186   \t0  \t0.31 \n",
      "47 \t185   \t0  \t0.165\n",
      "48 \t188   \t0  \t0.258\n",
      "49 \t186   \t0  \t0.247\n",
      "50 \t185   \t0  \t0.245\n",
      "[6, 1, 0, 6, 3, 0, 2, 2, 0, 6, 6, 0]\n"
     ]
    },
    {
     "data": {
      "text/plain": "<Figure size 432x432 with 1 Axes>",
      "image/png": "[encoded data removed]"
     },
     "metadata": {
      "needs_background": "light"
     },
     "output_type": "display_data"
    }
   ],
   "source": [
    "def randomShip(total):\n",
    "    ships = []\n",
    "    for n in range(total):\n",
    "        ships.extend([random.randint(1, POLE_SIZE), random.randint(1, POLE_SIZE), random.randint(0, 1)])\n",
    "\n",
    "    return creator.Individual(ships)\n",
    "\n",
    "\n",
    "toolbox = base.Toolbox()\n",
    "toolbox.register(\"randomShip\", randomShip, SHIPS)\n",
    "toolbox.register(\"populationCreator\", tools.initRepeat, list, toolbox.randomShip)\n",
    "\n",
    "population = toolbox.populationCreator(n=POPULATION_SIZE)\n",
    "\n",
    "def shipsFitness(individual):\n",
    "    type_ship = [1, 1, 1, 1]\n",
    "\n",
    "    inf = 1000\n",
    "    P0 = np.zeros((POLE_SIZE, POLE_SIZE))\n",
    "    P = np.ones((POLE_SIZE+6, POLE_SIZE+6))*inf\n",
    "    P[1:POLE_SIZE+1, 1:POLE_SIZE+1] = P0\n",
    "\n",
    "    th = 0.2\n",
    "    h = np.ones((3, 6)) * th\n",
    "    ship_one = np.ones((1, 4))\n",
    "    v = np.ones((6, 3)) * th\n",
    "\n",
    "    for *ship, t in zip(*[iter(individual)] * 3, type_ship):\n",
    "        if ship[-1] == 0:\n",
    "            sh = np.copy(h[:, :t+2])\n",
    "            sh[1, 1:t+1] = ship_one[0, :t]\n",
    "            P[ship[0] - 1:ship[0] + 2, ship[1]-1:ship[1] + t+1] += sh\n",
    "        else:\n",
    "            sh = np.copy(v[:t+2, :])\n",
    "            sh[1:t+1, 1] = ship_one[0, :t]\n",
    "            P[ship[0]-1:ship[0] + t+1, ship[1] - 1:ship[1] + 2] += sh\n",
    "\n",
    "\n",
    "    s = np.sum(P[np.bitwise_and(P > 1, P < inf)])\n",
    "    s += np.sum(P[P > inf+th*4])\n",
    "\n",
    "    return s,         # кортеж\n",
    "\n",
    "def mutShips(individual, indpb):\n",
    "    for i in range(len(individual)):\n",
    "        if random.random() < indpb:\n",
    "            individual[i] = random.randint(0, 1) if (i+1) % 3 == 0 else random.randint(1, POLE_SIZE)\n",
    "\n",
    "    return individual,\n",
    "\n",
    "\n",
    "toolbox.register(\"evaluate\", shipsFitness)\n",
    "toolbox.register(\"select\", tools.selTournament, tournsize=3)\n",
    "toolbox.register(\"mate\", tools.cxTwoPoint)\n",
    "toolbox.register(\"mutate\", mutShips, indpb=1.0/LENGTH_CHROM)\n",
    "\n",
    "stats = tools.Statistics(lambda ind: ind.fitness.values)\n",
    "stats.register(\"min\", np.min)\n",
    "stats.register(\"avg\", np.mean)\n",
    "\n",
    "\n",
    "def show(ax):\n",
    "    ax.clear()\n",
    "    show_ships(ax, hof.items[0], POLE_SIZE)\n",
    "\n",
    "    plt.draw()\n",
    "    plt.gcf().canvas.flush_events()\n",
    "\n",
    "\n",
    "plt.ion()\n",
    "fig, ax = plt.subplots()\n",
    "fig.set_size_inches(6, 6)\n",
    "\n",
    "ax.set_xlim(-2, POLE_SIZE+3)\n",
    "ax.set_ylim(-2, POLE_SIZE+3)\n",
    "\n",
    "population, logbook = algelitism.eaSimpleElitism(population, toolbox,\n",
    "                                                 cxpb=P_CROSSOVER,\n",
    "                                                 mutpb=P_MUTATION,\n",
    "                                                 ngen=MAX_GENERATIONS,\n",
    "                                                 halloffame=hof,\n",
    "                                                 stats=stats,\n",
    "                                                 callback=(show, (ax, )),\n",
    "                                                 verbose=True)\n",
    "\n",
    "maxFitnessValues, meanFitnessValues = logbook.select(\"min\", \"avg\")\n",
    "\n",
    "best = hof.items[0]\n",
    "print(best)\n",
    "\n",
    "plt.ioff()\n",
    "plt.show()\n",
    "\n",
    "# plt.plot(maxFitnessValues, color='red')\n",
    "# plt.plot(meanFitnessValues, color='green')\n",
    "# plt.xlabel('Поколение')\n",
    "# plt.ylabel('Макс/средняя приспособленность')\n",
    "# plt.title('Зависимость максимальной и средней приспособленности от поколения')\n",
    "# plt.show()\n",
    "#"
   ],
   "metadata": {
    "collapsed": false,
    "pycharm": {
     "name": "#%%\n"
    }
   }
  },
  {
   "cell_type": "code",
   "execution_count": 12,
   "outputs": [],
   "source": [],
   "metadata": {
    "collapsed": false,
    "pycharm": {
     "name": "#%%\n"
    }
   }
  },
  {
   "cell_type": "code",
   "execution_count": 12,
   "outputs": [],
   "source": [],
   "metadata": {
    "collapsed": false,
    "pycharm": {
     "name": "#%%\n"
    }
   }
  },
  {
   "cell_type": "code",
   "execution_count": null,
   "outputs": [],
   "source": [],
   "metadata": {
    "collapsed": false,
    "pycharm": {
     "name": "#%%\n"
    }
   }
  },
  {
   "cell_type": "code",
   "execution_count": null,
   "outputs": [],
   "source": [],
   "metadata": {
    "collapsed": false,
    "pycharm": {
     "name": "#%%\n"
    }
   }
  }
 ],
 "metadata": {
  "kernelspec": {
   "display_name": "Python 3",
   "language": "python",
   "name": "python3"
  },
  "language_info": {
   "codemirror_mode": {
    "name": "ipython",
    "version": 2
   },
   "file_extension": ".py",
   "mimetype": "text/x-python",
   "name": "python",
   "nbconvert_exporter": "python",
   "pygments_lexer": "ipython2",
   "version": "2.7.6"
  }
 },
 "nbformat": 4,
 "nbformat_minor": 0
}