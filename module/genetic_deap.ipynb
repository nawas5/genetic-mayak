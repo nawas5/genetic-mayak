{
 "cells": [
  {
   "cell_type": "code",
   "execution_count": 1,
   "metadata": {
    "collapsed": true
   },
   "outputs": [],
   "source": [
    "from deap import base\n",
    "from deap import creator\n",
    "from deap import tools\n",
    "\n",
    "import random\n",
    "\n",
    "import matplotlib.pyplot as plt\n",
    "import seaborn as sns"
   ]
  },
  {
   "cell_type": "code",
   "execution_count": 2,
   "outputs": [],
   "source": [
    "# problem constants:\n",
    "ONE_MAX_LENGTH = 100  # length of bit string to be optimized\n",
    "\n",
    "# Genetic Algorithm constants:\n",
    "POPULATION_SIZE = 200\n",
    "P_CROSSOVER = 0.9  # probability for crossover\n",
    "P_MUTATION = 0.1   # probability for mutating an individual\n",
    "MAX_GENERATIONS = 50\n",
    "\n",
    "# set the random seed:\n",
    "RANDOM_SEED = 42\n",
    "random.seed(RANDOM_SEED)"
   ],
   "metadata": {
    "collapsed": false,
    "pycharm": {
     "name": "#%%\n"
    }
   }
  },
  {
   "cell_type": "code",
   "execution_count": 3,
   "outputs": [],
   "source": [
    "toolbox = base.Toolbox()\n",
    "\n",
    "# create an operator that randomly returns 0 or 1:\n",
    "toolbox.register(\"zeroOrOne\", random.randint, 0, 1)\n",
    "\n",
    "# define a single objective, maximizing fitness strategy:\n",
    "creator.create(\"FitnessMax\", base.Fitness, weights=(1.0,))\n",
    "\n",
    "# create the Individual class based on list:\n",
    "creator.create(\"Individual\", list, fitness=creator.FitnessMax)\n",
    "#creator.create(\"Individual\", array.array, typecode='b', fitness=creator.FitnessMax)\n",
    "\n",
    "# create the individual operator to fill up an Individual instance:\n",
    "toolbox.register(\"individualCreator\", tools.initRepeat, creator.Individual, toolbox.zeroOrOne, ONE_MAX_LENGTH)\n",
    "\n",
    "# create the population operator to generate a list of individuals:\n",
    "toolbox.register(\"populationCreator\", tools.initRepeat, list, toolbox.individualCreator)"
   ],
   "metadata": {
    "collapsed": false,
    "pycharm": {
     "name": "#%%\n"
    }
   }
  },
  {
   "cell_type": "code",
   "execution_count": 4,
   "outputs": [],
   "source": [
    "# fitness calculation:\n",
    "# compute the number of '1's in the individual\n",
    "def oneMaxFitness(individual):\n",
    "    return sum(individual),  # return a tuple\n",
    "\n",
    "\n",
    "toolbox.register(\"evaluate\", oneMaxFitness)\n",
    "\n",
    "# genetic operators:\n",
    "\n",
    "# Tournament selection with tournament size of 3:\n",
    "toolbox.register(\"select\", tools.selTournament, tournsize=3)\n",
    "\n",
    "# Single-point crossover:\n",
    "toolbox.register(\"mate\", tools.cxOnePoint)\n",
    "\n",
    "# Flip-bit mutation:\n",
    "# indpb: Independent probability for each attribute to be flipped\n",
    "toolbox.register(\"mutate\", tools.mutFlipBit, indpb=1.0/ONE_MAX_LENGTH)"
   ],
   "metadata": {
    "collapsed": false,
    "pycharm": {
     "name": "#%%\n"
    }
   }
  },
  {
   "cell_type": "code",
   "execution_count": 5,
   "outputs": [],
   "source": [
    "# Genetic Algorithm flow:\n",
    "def main():\n",
    "\n",
    "    # create initial population (generation 0):\n",
    "    population = toolbox.populationCreator(n=POPULATION_SIZE)\n",
    "    generationCounter = 0\n",
    "\n",
    "    # calculate fitness tuple for each individual in the population:\n",
    "    fitnessValues = list(map(toolbox.evaluate, population))\n",
    "    for individual, fitnessValue in zip(population, fitnessValues):\n",
    "        individual.fitness.values = fitnessValue\n",
    "\n",
    "    # extract fitness values from all individuals in population:\n",
    "    fitnessValues = [individual.fitness.values[0] for individual in population]\n",
    "\n",
    "    # initialize statistics accumulators:\n",
    "    maxFitnessValues = []\n",
    "    meanFitnessValues = []\n",
    "\n",
    "    # main evolutionary loop:\n",
    "    # stop if max fitness value reached the known max value\n",
    "    # OR if number of generations exceeded the preset value:\n",
    "    while max(fitnessValues) < ONE_MAX_LENGTH and generationCounter < MAX_GENERATIONS:\n",
    "        # update counter:\n",
    "        generationCounter = generationCounter + 1\n",
    "\n",
    "        # apply the selection operator, to select the next generation's individuals:\n",
    "        offspring = toolbox.select(population, len(population))\n",
    "        # clone the selected individuals:\n",
    "        offspring = list(map(toolbox.clone, offspring))\n",
    "\n",
    "        # apply the crossover operator to pairs of offspring:\n",
    "        for child1, child2 in zip(offspring[::2], offspring[1::2]):\n",
    "            if random.random() < P_CROSSOVER:\n",
    "                toolbox.mate(child1, child2)\n",
    "                del child1.fitness.values\n",
    "                del child2.fitness.values\n",
    "\n",
    "        for mutant in offspring:\n",
    "            if random.random() < P_MUTATION:\n",
    "                toolbox.mutate(mutant)\n",
    "                del mutant.fitness.values\n",
    "\n",
    "        # calculate fitness for the individuals with no previous calculated fitness value:\n",
    "        freshIndividuals = [ind for ind in offspring if not ind.fitness.valid]\n",
    "        freshFitnessValues = list(map(toolbox.evaluate, freshIndividuals))\n",
    "        for individual, fitnessValue in zip(freshIndividuals, freshFitnessValues):\n",
    "            individual.fitness.values = fitnessValue\n",
    "\n",
    "        # replace the current population with the offspring:\n",
    "        population[:] = offspring\n",
    "\n",
    "        # collect fitnessValues into a list, update statistics and print:\n",
    "        fitnessValues = [ind.fitness.values[0] for ind in population]\n",
    "\n",
    "        maxFitness = max(fitnessValues)\n",
    "        meanFitness = sum(fitnessValues) / len(population)\n",
    "        maxFitnessValues.append(maxFitness)\n",
    "        meanFitnessValues.append(meanFitness)\n",
    "        print(\"- Generation {}: Max Fitness = {}, Avg Fitness = {}\".format(generationCounter, maxFitness, meanFitness))\n",
    "\n",
    "        # find and print best individual:\n",
    "        best_index = fitnessValues.index(max(fitnessValues))\n",
    "        print(\"Best Individual = \", *population[best_index], \"\\n\")\n",
    "\n",
    "    # Genetic Algorithm is done - plot statistics:\n",
    "    sns.set_style(\"whitegrid\")\n",
    "    plt.plot(maxFitnessValues, color='red')\n",
    "    plt.plot(meanFitnessValues, color='green')\n",
    "    plt.xlabel('Generation')\n",
    "    plt.ylabel('Max / Average Fitness')\n",
    "    plt.title('Max and Average Fitness over Generations')\n",
    "    plt.show()\n",
    "\n"
   ],
   "metadata": {
    "collapsed": false,
    "pycharm": {
     "name": "#%%\n"
    }
   }
  },
  {
   "cell_type": "code",
   "execution_count": 6,
   "outputs": [
    {
     "name": "stdout",
     "output_type": "stream",
     "text": [
      "- Generation 1: Max Fitness = 65.0, Avg Fitness = 53.575\n",
      "Best Individual =  1 1 0 1 0 1 0 0 1 0 0 0 1 1 1 0 1 0 0 1 0 1 0 0 0 1 1 1 1 1 0 1 1 1 1 0 1 0 1 1 1 1 0 0 1 1 1 1 1 1 0 1 1 1 1 1 0 1 1 1 1 1 1 1 0 0 0 0 1 0 1 0 1 1 1 0 1 1 0 0 0 1 1 1 0 0 1 1 1 1 1 1 1 1 1 1 1 1 0 0 \n",
      "\n",
      "- Generation 2: Max Fitness = 66.0, Avg Fitness = 56.855\n",
      "Best Individual =  1 1 1 0 0 1 0 1 1 1 0 1 1 1 0 1 1 0 1 0 0 0 0 0 0 1 1 1 1 1 0 1 1 0 1 1 0 0 0 1 0 1 1 1 1 1 1 1 1 1 0 1 1 1 1 1 0 1 1 1 1 1 1 1 0 0 0 0 1 0 1 0 1 1 1 0 1 1 0 0 0 1 1 1 0 0 1 1 1 1 1 1 1 1 1 1 1 1 0 0 \n",
      "\n",
      "- Generation 3: Max Fitness = 69.0, Avg Fitness = 59.42\n",
      "Best Individual =  1 0 1 1 1 0 1 0 1 1 1 1 1 0 0 1 0 1 0 1 1 1 0 0 0 0 1 1 1 1 1 1 1 1 0 1 1 1 0 0 1 1 1 1 1 1 1 0 1 1 1 0 1 0 0 0 0 1 1 1 1 1 1 1 1 1 1 1 1 0 1 1 0 1 1 0 1 1 1 1 0 1 1 0 0 1 1 0 1 1 1 1 1 0 0 1 0 1 1 0 \n",
      "\n",
      "- Generation 4: Max Fitness = 70.0, Avg Fitness = 62.03\n",
      "Best Individual =  1 0 0 0 0 1 1 1 1 1 1 0 1 1 1 1 0 1 1 0 0 1 0 0 0 0 1 1 1 1 1 1 1 1 0 1 1 1 0 0 1 1 1 1 1 1 1 0 1 1 0 0 1 0 1 0 0 1 1 1 1 0 1 0 1 0 1 0 0 1 1 0 1 1 0 1 1 1 1 1 1 1 1 1 1 1 1 1 1 1 0 1 0 1 1 1 1 1 1 1 \n",
      "\n",
      "- Generation 5: Max Fitness = 75.0, Avg Fitness = 64.715\n",
      "Best Individual =  1 0 1 1 1 0 1 0 1 1 1 1 1 0 0 1 0 1 0 1 1 1 0 0 0 0 1 1 1 1 1 1 1 1 0 1 1 1 0 0 1 1 1 1 1 1 1 0 1 1 1 0 1 0 0 0 0 1 1 1 1 1 1 1 1 1 1 1 1 0 1 1 0 1 0 1 1 1 1 1 1 1 1 1 1 1 1 1 1 1 0 1 0 1 1 1 1 1 1 1 \n",
      "\n",
      "- Generation 6: Max Fitness = 75.0, Avg Fitness = 67.515\n",
      "Best Individual =  1 1 1 0 0 1 1 0 1 1 1 1 1 1 0 1 1 0 1 1 0 1 0 0 0 1 1 1 1 1 1 1 0 1 1 1 1 1 1 1 1 1 0 1 0 1 1 0 1 1 1 0 0 1 1 0 1 1 0 1 1 1 1 1 1 0 1 1 1 1 0 1 0 1 0 1 1 0 0 1 1 1 1 1 1 1 1 1 1 1 0 1 0 1 1 1 1 1 1 1 \n",
      "\n",
      "- Generation 7: Max Fitness = 77.0, Avg Fitness = 70.215\n",
      "Best Individual =  1 0 0 1 1 0 0 0 1 1 1 1 1 0 1 1 1 0 0 1 1 1 0 1 0 1 1 1 1 1 1 1 1 1 0 1 1 1 0 0 1 1 1 1 1 1 1 0 1 1 1 0 1 1 1 0 0 1 1 1 1 1 1 1 1 1 1 1 1 0 1 1 0 1 1 0 1 1 1 1 0 1 1 0 1 1 1 1 1 1 1 1 0 1 1 1 1 1 1 1 \n",
      "\n",
      "- Generation 8: Max Fitness = 81.0, Avg Fitness = 72.475\n",
      "Best Individual =  1 0 1 1 1 0 1 1 1 1 1 1 1 0 0 1 1 1 1 0 0 1 0 1 0 1 1 1 1 1 1 1 1 1 0 1 1 1 0 0 1 1 1 1 1 1 1 0 1 1 1 0 1 1 1 0 0 1 1 1 1 1 1 1 1 1 1 1 1 0 1 1 0 1 1 1 1 1 1 1 1 1 1 1 1 1 1 1 1 1 0 1 0 1 1 1 1 1 1 1 \n",
      "\n",
      "- Generation 9: Max Fitness = 82.0, Avg Fitness = 74.79\n",
      "Best Individual =  1 0 1 1 1 0 1 1 1 1 1 1 1 0 1 1 1 1 1 1 0 1 1 1 0 1 0 1 0 0 1 1 1 1 1 1 1 1 1 1 1 1 1 1 1 1 1 0 1 1 1 0 1 0 0 0 0 1 1 1 1 1 1 1 1 1 1 1 1 0 1 1 0 1 1 1 1 1 1 1 1 1 1 1 1 1 1 1 1 1 0 1 0 1 1 1 1 1 1 1 \n",
      "\n",
      "- Generation 10: Max Fitness = 85.0, Avg Fitness = 76.685\n",
      "Best Individual =  1 0 1 1 1 0 1 1 1 1 1 1 1 0 1 1 1 1 1 1 0 1 1 1 0 1 0 1 0 0 1 1 1 1 1 1 1 1 1 1 1 1 1 1 1 1 1 1 1 1 0 1 1 1 1 1 0 1 1 1 1 0 1 1 0 1 1 1 1 1 1 1 1 1 0 1 1 1 1 1 1 1 1 1 1 1 1 1 1 1 0 1 0 1 1 1 1 1 1 1 \n",
      "\n",
      "- Generation 11: Max Fitness = 85.0, Avg Fitness = 78.46\n",
      "Best Individual =  1 0 1 1 1 0 1 1 1 1 1 1 1 0 1 1 1 1 1 1 0 1 1 1 0 1 0 1 0 0 1 1 1 1 1 1 1 1 1 1 1 1 1 1 1 1 1 1 1 1 0 1 1 1 1 1 0 1 1 1 1 0 1 1 0 1 1 1 1 1 1 1 1 1 0 1 1 1 1 1 1 1 1 1 1 1 1 1 1 1 0 1 0 1 1 1 1 1 1 1 \n",
      "\n",
      "- Generation 12: Max Fitness = 87.0, Avg Fitness = 80.265\n",
      "Best Individual =  1 0 1 1 1 1 1 1 1 1 1 1 1 0 1 1 1 1 1 1 0 1 1 1 0 1 0 1 0 0 1 1 1 1 1 1 1 1 1 1 1 1 1 1 1 1 1 1 1 1 0 1 1 1 1 1 0 1 1 1 1 0 1 1 0 1 1 1 1 1 1 1 1 1 1 1 1 1 1 1 1 1 1 1 1 1 1 1 1 1 0 1 0 1 1 1 1 1 1 1 \n",
      "\n",
      "- Generation 13: Max Fitness = 87.0, Avg Fitness = 81.8\n",
      "Best Individual =  1 0 1 1 1 1 1 1 1 1 1 1 1 0 1 1 1 1 1 1 0 1 1 1 0 1 0 1 0 0 1 1 1 1 1 1 1 1 1 1 1 1 1 1 1 1 1 1 1 1 0 1 1 1 1 1 0 1 1 1 1 0 1 1 0 1 1 1 1 1 1 1 1 1 1 1 1 1 1 1 1 1 1 1 1 1 1 1 1 1 0 1 0 1 1 1 1 1 1 1 \n",
      "\n",
      "- Generation 14: Max Fitness = 87.0, Avg Fitness = 83.15\n",
      "Best Individual =  1 0 1 1 1 1 1 1 1 1 1 1 1 0 1 1 1 1 1 1 0 1 1 1 0 1 0 1 0 0 1 1 1 1 1 1 1 1 1 1 1 1 1 1 1 1 1 1 1 1 0 1 1 1 1 1 0 1 1 1 1 0 1 1 0 1 1 1 1 1 1 1 1 1 1 1 1 1 1 1 1 1 1 1 1 1 1 1 1 1 0 1 0 1 1 1 1 1 1 1 \n",
      "\n",
      "- Generation 15: Max Fitness = 89.0, Avg Fitness = 84.4\n",
      "Best Individual =  1 0 1 1 1 1 1 1 1 1 1 1 1 0 1 1 1 1 1 1 0 1 1 1 0 0 1 1 1 1 1 1 1 1 0 1 1 1 0 1 1 1 1 1 1 1 1 1 1 1 0 1 1 1 1 1 0 1 1 1 1 1 1 1 1 1 1 1 1 1 1 1 1 1 1 1 1 1 1 1 1 1 1 1 1 1 1 1 1 1 0 1 0 1 1 1 1 1 1 1 \n",
      "\n",
      "- Generation 16: Max Fitness = 89.0, Avg Fitness = 85.59\n",
      "Best Individual =  1 0 1 1 1 1 1 1 1 1 1 1 1 0 1 1 1 1 1 1 0 1 1 1 0 1 0 1 0 1 1 1 1 1 1 1 1 1 1 1 1 1 1 1 1 1 1 1 1 1 0 1 1 1 1 1 0 1 1 1 1 1 1 1 1 1 1 1 1 1 1 1 1 1 0 1 1 1 1 1 1 1 1 1 1 1 1 1 1 1 0 1 0 1 1 1 1 1 1 1 \n",
      "\n",
      "- Generation 17: Max Fitness = 90.0, Avg Fitness = 86.755\n",
      "Best Individual =  1 0 1 1 1 1 1 1 1 1 1 1 1 0 1 1 1 1 1 1 0 1 1 1 0 1 0 1 1 1 1 1 0 1 1 1 1 1 1 1 1 1 1 1 1 1 1 1 1 1 0 1 1 1 1 1 0 1 1 1 1 1 1 1 1 1 1 1 1 1 1 1 1 1 1 1 1 1 1 1 1 1 1 1 1 1 1 1 1 1 0 1 0 1 1 1 1 1 1 1 \n",
      "\n",
      "- Generation 18: Max Fitness = 91.0, Avg Fitness = 87.715\n",
      "Best Individual =  1 0 1 1 1 1 1 1 1 1 1 1 1 0 1 1 1 1 1 1 0 1 1 1 0 1 0 1 1 1 1 1 1 1 1 1 1 1 1 1 1 1 1 1 1 1 1 1 1 1 0 1 1 1 1 1 0 1 1 1 1 1 1 1 1 1 1 1 1 1 1 1 1 1 1 1 1 1 1 1 1 1 1 1 1 1 1 1 1 1 0 1 0 1 1 1 1 1 1 1 \n",
      "\n",
      "- Generation 19: Max Fitness = 92.0, Avg Fitness = 88.495\n",
      "Best Individual =  1 1 1 1 1 1 1 1 1 1 1 1 1 0 1 1 1 1 1 1 0 1 1 1 0 1 0 1 1 1 1 1 1 1 1 1 1 1 1 1 1 1 1 1 1 1 1 1 1 1 1 1 1 1 1 1 0 1 1 1 1 0 1 1 0 1 1 1 1 1 1 1 1 1 1 1 1 1 1 1 1 1 1 1 1 1 1 1 1 1 1 1 1 0 1 1 1 1 1 1 \n",
      "\n",
      "- Generation 20: Max Fitness = 92.0, Avg Fitness = 89.275\n",
      "Best Individual =  1 1 1 1 1 1 1 1 1 1 1 1 1 0 1 1 1 1 1 1 0 1 1 1 0 1 1 1 0 0 1 1 1 1 1 1 1 1 1 1 1 1 1 1 1 1 1 1 1 1 0 1 1 1 1 1 0 1 1 1 1 1 1 1 1 1 1 1 1 1 1 1 1 1 1 1 1 1 1 1 1 1 1 1 1 1 1 1 1 1 1 1 1 0 1 1 1 1 1 1 \n",
      "\n",
      "- Generation 21: Max Fitness = 93.0, Avg Fitness = 90.04\n",
      "Best Individual =  1 1 1 1 1 1 1 1 1 1 1 1 1 0 1 1 1 1 1 1 0 1 1 1 1 1 0 1 1 1 1 1 1 1 1 1 1 1 1 1 1 1 1 1 1 1 1 1 1 1 0 1 1 1 1 1 0 1 1 1 1 1 1 1 1 1 1 1 1 1 1 1 1 1 1 1 1 1 1 1 1 1 1 1 1 1 1 1 1 1 0 1 0 1 1 1 1 1 1 1 \n",
      "\n",
      "- Generation 22: Max Fitness = 94.0, Avg Fitness = 90.865\n",
      "Best Individual =  1 0 1 1 1 1 1 1 1 1 1 1 1 0 1 1 1 1 1 1 0 1 1 1 0 1 1 1 1 1 1 1 1 1 1 1 1 1 1 1 1 1 1 1 1 1 1 1 1 1 0 1 1 1 1 1 1 1 1 1 1 1 1 1 1 1 1 1 1 1 1 1 1 1 1 1 1 1 1 1 1 1 1 1 1 1 1 1 1 1 1 1 1 0 1 1 1 1 1 1 \n",
      "\n",
      "- Generation 23: Max Fitness = 94.0, Avg Fitness = 91.645\n",
      "Best Individual =  1 1 1 1 1 1 1 1 1 1 1 1 1 0 1 1 1 1 1 1 0 1 1 1 0 1 1 1 1 1 1 1 1 1 1 1 1 1 1 1 1 1 1 1 1 1 1 1 1 1 0 1 1 1 1 1 0 1 1 1 1 1 1 1 1 1 1 1 1 1 1 1 1 1 1 1 1 1 1 1 1 1 1 1 1 1 1 1 1 1 1 1 0 1 1 1 1 1 1 1 \n",
      "\n",
      "- Generation 24: Max Fitness = 95.0, Avg Fitness = 92.69\n",
      "Best Individual =  1 1 1 1 1 1 1 1 1 1 1 1 1 0 1 1 1 1 1 1 0 1 1 1 0 1 1 1 1 1 1 1 1 1 1 1 1 1 1 1 1 1 1 1 1 1 1 1 1 1 0 1 1 1 1 1 1 1 1 1 1 1 1 1 1 1 1 1 1 1 1 1 1 1 1 1 1 1 1 1 1 1 1 1 1 1 1 1 1 1 1 1 0 1 1 1 1 1 1 1 \n",
      "\n",
      "- Generation 25: Max Fitness = 95.0, Avg Fitness = 93.325\n",
      "Best Individual =  1 1 1 1 1 1 1 1 1 1 1 1 1 0 1 1 1 1 1 1 0 1 1 1 1 1 0 1 1 1 1 1 1 1 1 1 1 1 1 1 1 1 1 1 1 1 1 1 1 1 0 1 1 1 1 1 1 1 1 1 1 1 1 1 1 1 1 1 1 1 1 1 1 1 1 1 1 1 1 1 1 1 1 1 1 1 1 1 1 1 1 1 0 1 1 1 1 1 1 1 \n",
      "\n",
      "- Generation 26: Max Fitness = 95.0, Avg Fitness = 93.935\n",
      "Best Individual =  1 1 1 1 1 1 1 1 1 1 1 1 1 0 1 1 1 1 1 1 0 1 1 1 0 1 1 1 1 1 1 1 1 1 1 1 1 1 1 1 1 1 1 1 1 1 1 1 1 1 0 1 1 1 1 1 1 1 1 1 1 1 1 1 1 1 1 1 1 1 1 1 1 1 1 1 1 1 1 1 1 1 1 1 1 1 1 1 1 1 1 1 1 0 1 1 1 1 1 1 \n",
      "\n",
      "- Generation 27: Max Fitness = 96.0, Avg Fitness = 94.39\n",
      "Best Individual =  1 1 1 1 1 1 1 1 1 1 1 1 1 0 1 1 1 1 1 1 1 1 1 1 0 1 1 1 1 1 1 1 1 1 1 1 1 1 1 1 1 1 1 1 1 1 1 1 1 1 0 1 1 1 1 1 1 1 1 1 1 1 1 1 1 1 1 1 1 1 1 1 1 1 1 1 1 1 1 1 1 1 1 1 1 1 1 1 1 1 1 1 1 0 1 1 1 1 1 1 \n",
      "\n",
      "- Generation 28: Max Fitness = 96.0, Avg Fitness = 94.84\n",
      "Best Individual =  1 1 1 1 1 1 1 1 1 1 1 1 1 0 1 1 1 1 1 1 0 1 1 1 1 1 1 1 1 1 1 1 1 1 1 1 1 1 1 1 1 1 1 1 1 1 1 1 1 1 0 1 1 1 1 1 1 1 1 1 1 1 1 1 1 1 1 1 1 1 1 1 1 1 1 1 1 1 1 1 1 1 1 1 1 1 1 1 1 1 1 1 1 0 1 1 1 1 1 1 \n",
      "\n",
      "- Generation 29: Max Fitness = 96.0, Avg Fitness = 95.07\n",
      "Best Individual =  1 1 1 1 1 1 1 1 1 1 1 1 1 0 1 1 1 1 1 1 1 1 1 1 0 1 1 1 1 1 1 1 1 1 1 1 1 1 1 1 1 1 1 1 1 1 1 1 1 1 0 1 1 1 1 1 1 1 1 1 1 1 1 1 1 1 1 1 1 1 1 1 1 1 1 1 1 1 1 1 1 1 1 1 1 1 1 1 1 1 1 1 0 1 1 1 1 1 1 1 \n",
      "\n",
      "- Generation 30: Max Fitness = 97.0, Avg Fitness = 95.325\n",
      "Best Individual =  1 1 1 1 1 1 1 1 1 1 1 1 1 0 1 1 1 1 1 1 0 1 1 1 1 1 1 1 1 1 1 1 1 1 1 1 1 1 1 1 1 1 1 1 1 1 1 1 1 1 0 1 1 1 1 1 1 1 1 1 1 1 1 1 1 1 1 1 1 1 1 1 1 1 1 1 1 1 1 1 1 1 1 1 1 1 1 1 1 1 1 1 1 1 1 1 1 1 1 1 \n",
      "\n",
      "- Generation 31: Max Fitness = 97.0, Avg Fitness = 95.69\n",
      "Best Individual =  1 1 1 1 1 1 1 1 1 1 1 1 1 0 1 1 1 1 1 1 1 1 1 1 0 1 1 1 1 1 1 1 1 1 1 1 1 1 1 1 1 1 1 1 1 1 1 1 1 1 0 1 1 1 1 1 1 1 1 1 1 1 1 1 1 1 1 1 1 1 1 1 1 1 1 1 1 1 1 1 1 1 1 1 1 1 1 1 1 1 1 1 1 1 1 1 1 1 1 1 \n",
      "\n",
      "- Generation 32: Max Fitness = 97.0, Avg Fitness = 95.93\n",
      "Best Individual =  1 1 1 1 1 1 1 1 1 1 1 1 1 0 1 1 1 1 1 1 1 1 1 1 0 1 1 1 1 1 1 1 1 1 1 1 1 1 1 1 1 1 1 1 1 1 1 1 1 1 0 1 1 1 1 1 1 1 1 1 1 1 1 1 1 1 1 1 1 1 1 1 1 1 1 1 1 1 1 1 1 1 1 1 1 1 1 1 1 1 1 1 1 1 1 1 1 1 1 1 \n",
      "\n",
      "- Generation 33: Max Fitness = 97.0, Avg Fitness = 96.085\n",
      "Best Individual =  1 1 1 1 1 1 1 1 1 1 1 1 1 0 1 1 1 1 1 1 1 1 1 1 1 1 1 1 1 1 1 1 1 1 1 1 1 1 1 1 1 1 1 1 1 1 1 1 1 1 0 1 1 1 1 1 1 1 1 1 1 1 1 1 1 1 1 1 1 1 1 1 1 1 1 1 1 1 1 1 1 1 1 1 1 1 1 1 1 1 1 1 0 1 1 1 1 1 1 1 \n",
      "\n",
      "- Generation 34: Max Fitness = 98.0, Avg Fitness = 96.325\n",
      "Best Individual =  1 1 1 1 1 1 1 1 1 1 1 1 1 0 1 1 1 1 1 1 1 1 1 1 1 1 1 1 1 1 1 1 1 1 1 1 1 1 1 1 1 1 1 1 1 1 1 1 1 1 0 1 1 1 1 1 1 1 1 1 1 1 1 1 1 1 1 1 1 1 1 1 1 1 1 1 1 1 1 1 1 1 1 1 1 1 1 1 1 1 1 1 1 1 1 1 1 1 1 1 \n",
      "\n",
      "- Generation 35: Max Fitness = 98.0, Avg Fitness = 96.835\n",
      "Best Individual =  1 1 1 1 1 1 1 1 1 1 1 1 1 0 1 1 1 1 1 1 1 1 1 1 1 1 1 1 1 1 1 1 1 1 1 1 1 1 1 1 1 1 1 1 1 1 1 1 1 1 0 1 1 1 1 1 1 1 1 1 1 1 1 1 1 1 1 1 1 1 1 1 1 1 1 1 1 1 1 1 1 1 1 1 1 1 1 1 1 1 1 1 1 1 1 1 1 1 1 1 \n",
      "\n",
      "- Generation 36: Max Fitness = 98.0, Avg Fitness = 97.18\n",
      "Best Individual =  1 1 1 1 1 1 1 1 1 1 1 1 1 0 1 1 1 1 1 1 1 1 1 1 1 1 1 1 1 1 1 1 1 1 1 1 1 1 1 1 1 1 1 1 1 1 1 1 1 1 0 1 1 1 1 1 1 1 1 1 1 1 1 1 1 1 1 1 1 1 1 1 1 1 1 1 1 1 1 1 1 1 1 1 1 1 1 1 1 1 1 1 1 1 1 1 1 1 1 1 \n",
      "\n",
      "- Generation 37: Max Fitness = 99.0, Avg Fitness = 97.655\n",
      "Best Individual =  1 1 1 1 1 1 1 1 1 1 1 1 1 1 1 1 1 1 1 1 1 1 1 1 1 1 1 1 1 1 1 1 1 1 1 1 1 1 1 1 1 1 1 1 1 1 1 1 1 1 0 1 1 1 1 1 1 1 1 1 1 1 1 1 1 1 1 1 1 1 1 1 1 1 1 1 1 1 1 1 1 1 1 1 1 1 1 1 1 1 1 1 1 1 1 1 1 1 1 1 \n",
      "\n",
      "- Generation 38: Max Fitness = 99.0, Avg Fitness = 97.91\n",
      "Best Individual =  1 1 1 1 1 1 1 1 1 1 1 1 1 1 1 1 1 1 1 1 1 1 1 1 1 1 1 1 1 1 1 1 1 1 1 1 1 1 1 1 1 1 1 1 1 1 1 1 1 1 0 1 1 1 1 1 1 1 1 1 1 1 1 1 1 1 1 1 1 1 1 1 1 1 1 1 1 1 1 1 1 1 1 1 1 1 1 1 1 1 1 1 1 1 1 1 1 1 1 1 \n",
      "\n",
      "- Generation 39: Max Fitness = 99.0, Avg Fitness = 98.04\n",
      "Best Individual =  1 1 1 1 1 1 1 1 1 1 1 1 1 0 1 1 1 1 1 1 1 1 1 1 1 1 1 1 1 1 1 1 1 1 1 1 1 1 1 1 1 1 1 1 1 1 1 1 1 1 1 1 1 1 1 1 1 1 1 1 1 1 1 1 1 1 1 1 1 1 1 1 1 1 1 1 1 1 1 1 1 1 1 1 1 1 1 1 1 1 1 1 1 1 1 1 1 1 1 1 \n",
      "\n",
      "- Generation 40: Max Fitness = 100.0, Avg Fitness = 98.29\n",
      "Best Individual =  1 1 1 1 1 1 1 1 1 1 1 1 1 1 1 1 1 1 1 1 1 1 1 1 1 1 1 1 1 1 1 1 1 1 1 1 1 1 1 1 1 1 1 1 1 1 1 1 1 1 1 1 1 1 1 1 1 1 1 1 1 1 1 1 1 1 1 1 1 1 1 1 1 1 1 1 1 1 1 1 1 1 1 1 1 1 1 1 1 1 1 1 1 1 1 1 1 1 1 1 \n",
      "\n"
     ]
    },
    {
     "data": {
      "text/plain": "<Figure size 432x288 with 1 Axes>",
      "image/png": "[encoded data removed]"
     },
     "metadata": {},
     "output_type": "display_data"
    }
   ],
   "source": [
    "if __name__ == '__main__':\n",
    "    main()"
   ],
   "metadata": {
    "collapsed": false,
    "pycharm": {
     "name": "#%%\n"
    }
   }
  },
  {
   "cell_type": "code",
   "execution_count": null,
   "outputs": [],
   "source": [],
   "metadata": {
    "collapsed": false,
    "pycharm": {
     "name": "#%%\n"
    }
   }
  }
 ],
 "metadata": {
  "kernelspec": {
   "display_name": "Python 3",
   "language": "python",
   "name": "python3"
  },
  "language_info": {
   "codemirror_mode": {
    "name": "ipython",
    "version": 2
   },
   "file_extension": ".py",
   "mimetype": "text/x-python",
   "name": "python",
   "nbconvert_exporter": "python",
   "pygments_lexer": "ipython2",
   "version": "2.7.6"
  }
 },
 "nbformat": 4,
 "nbformat_minor": 0
}