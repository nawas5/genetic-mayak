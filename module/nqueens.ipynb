{
 "cells": [
  {
   "cell_type": "code",
   "execution_count": 6,
   "outputs": [],
   "source": [
    "import random\n",
    "\n",
    "import numpy\n",
    "\n",
    "from deap import algorithms\n",
    "from deap import base\n",
    "from deap import creator\n",
    "from deap import tools"
   ],
   "metadata": {
    "collapsed": false,
    "pycharm": {
     "name": "#%%\n"
    }
   }
  },
  {
   "cell_type": "code",
   "execution_count": 7,
   "outputs": [],
   "source": [
    "#Problem parameter\n",
    "NB_QUEENS = 20"
   ],
   "metadata": {
    "collapsed": false,
    "pycharm": {
     "name": "#%%\n"
    }
   }
  },
  {
   "cell_type": "code",
   "execution_count": 8,
   "outputs": [],
   "source": [
    "def evalNQueens(individual):\n",
    "    \"\"\"Evaluation function for the n-queens problem.\n",
    "    The problem is to determine a configuration of n queens\n",
    "    on a nxn chessboard such that no queen can be taken by\n",
    "    one another. In this version, each queens is assigned\n",
    "    to one column, and only one queen can be on each line.\n",
    "    The evaluation function therefore only counts the number\n",
    "    of conflicts along the diagonals.\n",
    "    \"\"\"\n",
    "    size = len(individual)\n",
    "    #Count the number of conflicts with other queens.\n",
    "    #The conflicts can only be diagonal, count on each diagonal line\n",
    "    left_diagonal = [0] * (2*size-1)\n",
    "    right_diagonal = [0] * (2*size-1)\n",
    "\n",
    "    #Sum the number of queens on each diagonal:\n",
    "    for i in range(size):\n",
    "        left_diagonal[i+individual[i]] += 1\n",
    "        right_diagonal[size-1-i+individual[i]] += 1\n",
    "\n",
    "    #Count the number of conflicts on each diagonal\n",
    "    sum_ = 0\n",
    "    for i in range(2*size-1):\n",
    "        if left_diagonal[i] > 1:\n",
    "            sum_ += left_diagonal[i] - 1\n",
    "        if right_diagonal[i] > 1:\n",
    "            sum_ += right_diagonal[i] - 1\n",
    "    return sum_,"
   ],
   "metadata": {
    "collapsed": false,
    "pycharm": {
     "name": "#%%\n"
    }
   }
  },
  {
   "cell_type": "code",
   "execution_count": 9,
   "outputs": [
    {
     "name": "stderr",
     "output_type": "stream",
     "text": [
      "c:\\users\\stoma\\appdata\\local\\programs\\python\\python38\\lib\\site-packages\\deap\\creator.py:138: RuntimeWarning: A class named 'FitnessMin' has already been created and it will be overwritten. Consider deleting previous creation of that class or rename it.\n",
      "  warnings.warn(\"A class named '{0}' has already been created and it \"\n",
      "c:\\users\\stoma\\appdata\\local\\programs\\python\\python38\\lib\\site-packages\\deap\\creator.py:138: RuntimeWarning: A class named 'Individual' has already been created and it will be overwritten. Consider deleting previous creation of that class or rename it.\n",
      "  warnings.warn(\"A class named '{0}' has already been created and it \"\n"
     ]
    }
   ],
   "source": [
    "creator.create(\"FitnessMin\", base.Fitness, weights=(-1.0,))\n",
    "creator.create(\"Individual\", list, fitness=creator.FitnessMin)\n",
    "\n",
    "#Since there is only one queen per line,\n",
    "#individual are represented by a permutation\n",
    "toolbox = base.Toolbox()\n",
    "toolbox.register(\"permutation\", random.sample, range(NB_QUEENS), NB_QUEENS)\n",
    "\n",
    "#Structure initializers\n",
    "#An individual is a list that represents the position of each queen.\n",
    "#Only the line is stored, the column is the index of the number in the list.\n",
    "toolbox.register(\"individual\", tools.initIterate, creator.Individual, toolbox.permutation)\n",
    "toolbox.register(\"population\", tools.initRepeat, list, toolbox.individual)\n",
    "\n",
    "toolbox.register(\"evaluate\", evalNQueens)\n",
    "toolbox.register(\"mate\", tools.cxPartialyMatched)\n",
    "toolbox.register(\"mutate\", tools.mutShuffleIndexes, indpb=2.0/NB_QUEENS)\n",
    "toolbox.register(\"select\", tools.selTournament, tournsize=3)\n"
   ],
   "metadata": {
    "collapsed": false,
    "pycharm": {
     "name": "#%%\n"
    }
   }
  },
  {
   "cell_type": "code",
   "execution_count": 10,
   "outputs": [],
   "source": [
    "def main(seed=0):\n",
    "    random.seed(seed)\n",
    "\n",
    "    pop = toolbox.population(n=300)\n",
    "    hof = tools.HallOfFame(1)\n",
    "    stats = tools.Statistics(lambda ind: ind.fitness.values)\n",
    "    stats.register(\"Avg\", numpy.mean)\n",
    "    stats.register(\"Std\", numpy.std)\n",
    "    stats.register(\"Min\", numpy.min)\n",
    "    stats.register(\"Max\", numpy.max)\n",
    "\n",
    "    algorithms.eaSimple(pop, toolbox, cxpb=0.5, mutpb=0.2, ngen=100, stats=stats,\n",
    "                        halloffame=hof, verbose=True)\n",
    "\n",
    "    return pop, stats, hof"
   ],
   "metadata": {
    "collapsed": false,
    "pycharm": {
     "name": "#%%\n"
    }
   }
  },
  {
   "cell_type": "code",
   "execution_count": 11,
   "outputs": [
    {
     "name": "stdout",
     "output_type": "stream",
     "text": [
      "gen\tnevals\tAvg  \tStd    \tMin\tMax\n",
      "0  \t300   \t10.58\t1.96391\t4  \t17 \n",
      "1  \t170   \t9.51667\t1.88053\t4  \t16 \n",
      "2  \t177   \t8.97667\t1.98397\t2  \t15 \n",
      "3  \t180   \t8.42333\t2.0682 \t4  \t16 \n",
      "4  \t186   \t8.07667\t2.19639\t3  \t15 \n",
      "5  \t176   \t7.58333\t2.20069\t3  \t15 \n",
      "6  \t171   \t7.19   \t2.39456\t3  \t14 \n",
      "7  \t170   \t6.92667\t2.5628 \t3  \t16 \n",
      "8  \t178   \t6.54   \t2.32416\t3  \t13 \n",
      "9  \t176   \t5.87333\t2.17347\t3  \t13 \n",
      "10 \t188   \t5.39   \t2.15203\t3  \t13 \n",
      "11 \t155   \t4.73333\t1.61107\t2  \t12 \n",
      "12 \t182   \t4.66   \t1.65461\t2  \t14 \n",
      "13 \t191   \t4.91333\t2.09264\t2  \t14 \n",
      "14 \t182   \t4.55   \t1.94444\t2  \t14 \n",
      "15 \t175   \t4.63333\t2.37744\t2  \t13 \n",
      "16 \t174   \t4.68   \t2.6541 \t2  \t14 \n",
      "17 \t168   \t3.99333\t2.46576\t1  \t13 \n",
      "18 \t172   \t3.34333\t2.30191\t1  \t14 \n",
      "19 \t189   \t2.65667\t1.71429\t1  \t10 \n",
      "20 \t197   \t2.47667\t1.80262\t1  \t10 \n",
      "21 \t185   \t2.15   \t1.77975\t1  \t10 \n",
      "22 \t184   \t1.95667\t1.94117\t1  \t10 \n",
      "23 \t188   \t1.69333\t1.74144\t1  \t11 \n",
      "24 \t186   \t1.82667\t1.99582\t1  \t10 \n",
      "25 \t189   \t1.89   \t2.04073\t1  \t11 \n",
      "26 \t163   \t1.54333\t1.50381\t1  \t10 \n",
      "27 \t176   \t1.93   \t2.07166\t1  \t11 \n",
      "28 \t178   \t1.62667\t1.59602\t1  \t9  \n",
      "29 \t198   \t1.85667\t1.9637 \t1  \t11 \n",
      "30 \t161   \t1.72   \t1.78744\t1  \t10 \n",
      "31 \t170   \t1.62333\t1.69945\t1  \t12 \n",
      "32 \t187   \t1.82667\t1.87704\t1  \t11 \n",
      "33 \t175   \t1.85667\t1.92599\t1  \t10 \n",
      "34 \t168   \t1.75333\t1.76422\t1  \t9  \n",
      "35 \t177   \t1.61667\t1.51098\t1  \t9  \n",
      "36 \t171   \t1.67667\t1.72205\t1  \t9  \n",
      "37 \t176   \t1.71333\t1.76196\t1  \t11 \n",
      "38 \t190   \t1.8    \t1.86548\t1  \t10 \n",
      "39 \t174   \t1.66667\t1.86964\t1  \t12 \n",
      "40 \t191   \t1.8    \t1.85831\t1  \t11 \n",
      "41 \t189   \t1.71333\t1.71595\t1  \t9  \n",
      "42 \t185   \t1.82333\t1.97622\t1  \t12 \n",
      "43 \t199   \t1.73333\t1.75752\t1  \t10 \n",
      "44 \t177   \t1.80333\t1.94713\t1  \t10 \n",
      "45 \t170   \t1.51   \t1.51324\t1  \t9  \n",
      "46 \t190   \t1.72333\t1.77955\t1  \t10 \n",
      "47 \t172   \t1.59333\t1.63746\t1  \t11 \n",
      "48 \t190   \t1.66667\t1.67796\t1  \t10 \n",
      "49 \t191   \t1.7    \t1.81567\t1  \t10 \n",
      "50 \t182   \t1.72   \t1.81152\t1  \t10 \n",
      "51 \t173   \t1.54   \t1.66185\t1  \t11 \n",
      "52 \t179   \t1.68667\t1.71906\t1  \t11 \n",
      "53 \t164   \t1.68667\t1.94983\t1  \t14 \n",
      "54 \t180   \t1.71667\t1.70774\t1  \t10 \n",
      "55 \t182   \t1.69   \t1.78901\t1  \t12 \n",
      "56 \t182   \t1.51333\t1.53291\t1  \t11 \n",
      "57 \t176   \t1.85   \t1.84955\t1  \t11 \n",
      "58 \t183   \t1.79   \t1.84189\t1  \t11 \n",
      "59 \t160   \t1.64667\t1.63559\t1  \t12 \n",
      "60 \t162   \t1.64333\t1.68606\t1  \t10 \n",
      "61 \t173   \t1.77   \t1.84312\t1  \t11 \n",
      "62 \t175   \t1.76   \t1.86969\t1  \t10 \n",
      "63 \t199   \t1.87667\t2.06271\t1  \t13 \n",
      "64 \t185   \t1.73   \t1.88779\t1  \t11 \n",
      "65 \t180   \t1.86333\t1.97095\t1  \t12 \n",
      "66 \t194   \t1.88667\t1.95972\t1  \t10 \n",
      "67 \t192   \t1.68667\t1.80974\t1  \t11 \n",
      "68 \t182   \t1.89333\t2.05798\t1  \t10 \n",
      "69 \t198   \t1.92667\t1.95652\t1  \t9  \n",
      "70 \t181   \t1.88667\t1.9901 \t1  \t11 \n",
      "71 \t185   \t1.89333\t1.94986\t0  \t12 \n",
      "72 \t171   \t1.58   \t1.67837\t0  \t11 \n",
      "73 \t189   \t1.69667\t1.7468 \t0  \t9  \n",
      "74 \t173   \t1.79667\t1.92059\t0  \t10 \n",
      "75 \t191   \t1.66333\t1.94336\t0  \t10 \n",
      "76 \t169   \t1.28   \t1.68373\t0  \t9  \n",
      "77 \t194   \t1.17667\t1.77917\t0  \t10 \n",
      "78 \t188   \t1.11667\t2.09676\t0  \t9  \n",
      "79 \t166   \t0.933333\t2.244  \t0  \t12 \n",
      "80 \t161   \t0.616667\t1.75016\t0  \t11 \n",
      "81 \t176   \t0.82    \t2.04147\t0  \t10 \n",
      "82 \t186   \t0.82    \t1.91336\t0  \t9  \n",
      "83 \t181   \t0.93    \t2.27854\t0  \t12 \n",
      "84 \t177   \t0.796667\t1.9049 \t0  \t12 \n",
      "85 \t192   \t0.736667\t1.83866\t0  \t10 \n",
      "86 \t156   \t0.816667\t1.95014\t0  \t10 \n",
      "87 \t181   \t0.953333\t2.11923\t0  \t9  \n",
      "88 \t181   \t1.01333 \t2.21807\t0  \t13 \n",
      "89 \t177   \t0.703333\t1.77445\t0  \t10 \n",
      "90 \t188   \t1       \t2.08646\t0  \t10 \n",
      "91 \t188   \t0.736667\t1.87812\t0  \t10 \n",
      "92 \t190   \t1.02667 \t2.267  \t0  \t12 \n",
      "93 \t171   \t0.82    \t2.08029\t0  \t11 \n",
      "94 \t180   \t0.686667\t1.82259\t0  \t9  \n",
      "95 \t182   \t0.91    \t2.0741 \t0  \t10 \n",
      "96 \t185   \t0.723333\t1.84575\t0  \t9  \n",
      "97 \t177   \t0.656667\t1.72011\t0  \t11 \n",
      "98 \t191   \t1.07333 \t2.27917\t0  \t11 \n",
      "99 \t181   \t0.923333\t2.19791\t0  \t11 \n",
      "100\t187   \t0.663333\t1.75214\t0  \t9  \n"
     ]
    }
   ],
   "source": [
    "if __name__ == \"__main__\":\n",
    "    main()"
   ],
   "metadata": {
    "collapsed": false,
    "pycharm": {
     "name": "#%%\n"
    }
   }
  },
  {
   "cell_type": "code",
   "execution_count": null,
   "outputs": [],
   "source": [],
   "metadata": {
    "collapsed": false,
    "pycharm": {
     "name": "#%%\n"
    }
   }
  }
 ],
 "metadata": {
  "kernelspec": {
   "display_name": "Python 3",
   "language": "python",
   "name": "python3"
  },
  "language_info": {
   "codemirror_mode": {
    "name": "ipython",
    "version": 2
   },
   "file_extension": ".py",
   "mimetype": "text/x-python",
   "name": "python",
   "nbconvert_exporter": "python",
   "pygments_lexer": "ipython2",
   "version": "2.7.6"
  }
 },
 "nbformat": 4,
 "nbformat_minor": 0
}