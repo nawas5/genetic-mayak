{
 "cells": [
  {
   "cell_type": "code",
   "execution_count": 1,
   "metadata": {
    "collapsed": true
   },
   "outputs": [],
   "source": [
    "from deap import base, algorithms\n",
    "from deap import creator\n",
    "from deap import tools\n",
    "\n",
    "import algelitism\n",
    "from graph_show import show_graph\n",
    "\n",
    "import random\n",
    "import matplotlib.pyplot as plt\n",
    "import numpy as np"
   ]
  },
  {
   "cell_type": "code",
   "execution_count": 2,
   "outputs": [
    {
     "name": "stdout",
     "output_type": "stream",
     "text": [
      "gen\tnevals\tmin\tavg   \n",
      "0  \t500   \t117\t936.65\n",
      "1  \t92    \t117\t713.192\n",
      "2  \t76    \t117\t557.3  \n",
      "3  \t88    \t117\t467.422\n",
      "4  \t78    \t117\t381.012\n",
      "5  \t71    \t117\t326.274\n",
      "6  \t98    \t21 \t272.148\n",
      "7  \t75    \t21 \t212.284\n",
      "8  \t91    \t21 \t170.534\n",
      "9  \t83    \t20 \t134.984\n",
      "10 \t85    \t20 \t108.61 \n",
      "11 \t107   \t20 \t102.28 \n",
      "12 \t66    \t20 \t55.198 \n",
      "13 \t65    \t20 \t27.974 \n",
      "14 \t96    \t20 \t54.248 \n",
      "15 \t74    \t20 \t32.742 \n",
      "16 \t85    \t20 \t28.602 \n",
      "17 \t71    \t20 \t23.996 \n",
      "18 \t81    \t20 \t25.136 \n",
      "19 \t57    \t20 \t23.024 \n",
      "20 \t99    \t20 \t24.736 \n",
      "21 \t80    \t20 \t22.566 \n",
      "22 \t86    \t20 \t26.318 \n",
      "23 \t78    \t20 \t28.114 \n",
      "24 \t82    \t20 \t25.066 \n",
      "25 \t84    \t20 \t21.426 \n",
      "26 \t88    \t20 \t23.802 \n",
      "27 \t96    \t20 \t26.222 \n",
      "28 \t104   \t20 \t27.126 \n",
      "29 \t82    \t20 \t23.052 \n",
      "30 \t88    \t20 \t26.858 \n",
      "[[0, 1, 4, 3, 5, 2], [1, 5, 3, 2, 4, 0], [2, 4, 0, 3, 5, 1], [3, 0, 4, 1, 2, 5], [2, 4, 3, 1, 0, 5], [3, 5, 1, 0, 2, 4]]\n"
     ]
    },
    {
     "data": {
      "text/plain": "<Figure size 432x288 with 1 Axes>",
      "image/png": "[encoded data removed]"
     },
     "metadata": {
      "needs_background": "light"
     },
     "output_type": "display_data"
    }
   ],
   "source": [
    "inf = 100\n",
    "D = ((0, 3, 1, 3, inf, inf),\n",
    "     (3, 0, 4, inf, inf, inf),\n",
    "     (1, 4, 0, inf, 7, 5),\n",
    "     (3, inf, inf, 0, inf, 2),\n",
    "     (inf, inf, 7, inf, 0, 4),\n",
    "     (inf, inf, 5, 2, 4, 0))\n",
    "\n",
    "startV = 0              # стартовая вершина\n",
    "LENGTH_D = len(D)\n",
    "LENGTH_CHROM = len(D)*len(D[0])    # длина хромосомы, подлежащей оптимизации\n",
    "\n",
    "# константы генетического алгоритма\n",
    "POPULATION_SIZE = 500   # количество индивидуумов в популяции\n",
    "P_CROSSOVER = 0.9       # вероятность скрещивания\n",
    "P_MUTATION = 0.1        # вероятность мутации индивидуума\n",
    "MAX_GENERATIONS = 30    # максимальное количество поколений\n",
    "HALL_OF_FAME_SIZE = 1\n",
    "\n",
    "hof = tools.HallOfFame(HALL_OF_FAME_SIZE)\n",
    "\n",
    "RANDOM_SEED = 42\n",
    "random.seed(RANDOM_SEED)\n",
    "\n",
    "creator.create(\"FitnessMin\", base.Fitness, weights=(-1.0,))\n",
    "creator.create(\"Individual\", list, fitness=creator.FitnessMin)\n",
    "\n",
    "toolbox = base.Toolbox()\n",
    "toolbox.register(\"randomOrder\", random.sample, range(LENGTH_D), LENGTH_D)\n",
    "toolbox.register(\"individualCreator\", tools.initRepeat, creator.Individual, toolbox.randomOrder, LENGTH_D)\n",
    "toolbox.register(\"populationCreator\", tools.initRepeat, list, toolbox.individualCreator)\n",
    "\n",
    "population = toolbox.populationCreator(n=POPULATION_SIZE)\n",
    "\n",
    "\n",
    "def dikstryFitness(individual):\n",
    "    s = 0\n",
    "    for n, path in enumerate(individual):\n",
    "        path = path[:path.index(n)+1]\n",
    "\n",
    "        si = startV\n",
    "        for j in path:\n",
    "            s += D[si][j]\n",
    "            si = j\n",
    "\n",
    "    return s,         # кортеж\n",
    "\n",
    "def cxOrdered(ind1, ind2):\n",
    "    for p1, p2 in zip(ind1, ind2):\n",
    "        tools.cxOrdered(p1, p2)\n",
    "\n",
    "    return ind1, ind2\n",
    "\n",
    "def mutShuffleIndexes(individual, indpb):\n",
    "    for ind in individual:\n",
    "        tools.mutShuffleIndexes(ind, indpb)\n",
    "\n",
    "    return individual,\n",
    "\n",
    "\n",
    "toolbox.register(\"evaluate\", dikstryFitness)\n",
    "toolbox.register(\"select\", tools.selTournament, tournsize=3)\n",
    "toolbox.register(\"mate\", cxOrdered)\n",
    "toolbox.register(\"mutate\", mutShuffleIndexes, indpb=1.0/LENGTH_CHROM/10)\n",
    "\n",
    "stats = tools.Statistics(lambda ind: ind.fitness.values)\n",
    "stats.register(\"min\", np.min)\n",
    "stats.register(\"avg\", np.mean)\n",
    "\n",
    "\n",
    "def show(ax):\n",
    "    ax.clear()\n",
    "    show_graph(ax, hof.items[0])\n",
    "\n",
    "    plt.draw()\n",
    "    plt.gcf().canvas.flush_events()\n",
    "\n",
    "\n",
    "plt.ion()\n",
    "fig, ax = plt.subplots()\n",
    "\n",
    "population, logbook = algelitism.eaSimpleElitism(population, toolbox,\n",
    "                                                 cxpb=P_CROSSOVER/LENGTH_D,\n",
    "                                                 mutpb=P_MUTATION/LENGTH_D,\n",
    "                                                 ngen=MAX_GENERATIONS,\n",
    "                                                 halloffame=hof,\n",
    "                                                 stats=stats,\n",
    "                                                 callback=(show, (ax, )),\n",
    "                                                 verbose=True)\n",
    "\n",
    "maxFitnessValues, meanFitnessValues = logbook.select(\"min\", \"avg\")\n",
    "\n",
    "best = hof.items[0]\n",
    "print(best)\n",
    "\n",
    "plt.ioff()\n",
    "plt.show()\n",
    "\n",
    "# plt.plot(maxFitnessValues, color='red')\n",
    "# plt.plot(meanFitnessValues, color='green')\n",
    "# plt.xlabel('Поколение')\n",
    "# plt.ylabel('Макс/средняя приспособленность')\n",
    "# plt.title('Зависимость максимальной и средней приспособленности от поколения')\n",
    "#\n",
    "# fig, ax = plt.subplots()\n",
    "# show_graph(ax, best)\n",
    "# plt.show()"
   ],
   "metadata": {
    "collapsed": false,
    "pycharm": {
     "name": "#%%\n"
    }
   }
  },
  {
   "cell_type": "code",
   "execution_count": null,
   "outputs": [],
   "source": [],
   "metadata": {
    "collapsed": false,
    "pycharm": {
     "name": "#%%\n"
    }
   }
  }
 ],
 "metadata": {
  "kernelspec": {
   "display_name": "Python 3",
   "language": "python",
   "name": "python3"
  },
  "language_info": {
   "codemirror_mode": {
    "name": "ipython",
    "version": 2
   },
   "file_extension": ".py",
   "mimetype": "text/x-python",
   "name": "python",
   "nbconvert_exporter": "python",
   "pygments_lexer": "ipython2",
   "version": "2.7.6"
  }
 },
 "nbformat": 4,
 "nbformat_minor": 0
}