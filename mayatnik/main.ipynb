{
 "cells": [
  {
   "cell_type": "code",
   "execution_count": 3,
   "metadata": {
    "collapsed": true
   },
   "outputs": [
    {
     "ename": "GraphicsError",
     "evalue": "checkMouse in closed window",
     "output_type": "error",
     "traceback": [
      "\u001B[1;31m---------------------------------------------------------------------------\u001B[0m",
      "\u001B[1;31mGraphicsError\u001B[0m                             Traceback (most recent call last)",
      "\u001B[1;32m<ipython-input-3-555012fd1a5f>\u001B[0m in \u001B[0;36m<module>\u001B[1;34m\u001B[0m\n\u001B[0;32m     45\u001B[0m     \u001B[0mgr\u001B[0m\u001B[1;33m.\u001B[0m\u001B[0mtime\u001B[0m\u001B[1;33m.\u001B[0m\u001B[0msleep\u001B[0m\u001B[1;33m(\u001B[0m\u001B[1;36m0.03\u001B[0m\u001B[1;33m)\u001B[0m\u001B[1;33m\u001B[0m\u001B[1;33m\u001B[0m\u001B[0m\n\u001B[0;32m     46\u001B[0m     \u001B[0mline\u001B[0m\u001B[1;33m.\u001B[0m\u001B[0mundraw\u001B[0m\u001B[1;33m(\u001B[0m\u001B[1;33m)\u001B[0m\u001B[1;33m\u001B[0m\u001B[1;33m\u001B[0m\u001B[0m\n\u001B[1;32m---> 47\u001B[1;33m     \u001B[1;32mif\u001B[0m \u001B[0mwindow\u001B[0m\u001B[1;33m.\u001B[0m\u001B[0mcheckMouse\u001B[0m\u001B[1;33m(\u001B[0m\u001B[1;33m)\u001B[0m\u001B[1;33m:\u001B[0m\u001B[1;33m\u001B[0m\u001B[1;33m\u001B[0m\u001B[0m\n\u001B[0m\u001B[0;32m     48\u001B[0m         \u001B[1;32mbreak\u001B[0m\u001B[1;33m\u001B[0m\u001B[1;33m\u001B[0m\u001B[0m\n\u001B[0;32m     49\u001B[0m \u001B[0mwindow\u001B[0m\u001B[1;33m.\u001B[0m\u001B[0mclose\u001B[0m\u001B[1;33m(\u001B[0m\u001B[1;33m)\u001B[0m\u001B[1;33m\u001B[0m\u001B[1;33m\u001B[0m\u001B[0m\n",
      "\u001B[1;32mc:\\users\\stoma\\appdata\\local\\programs\\python\\python38\\lib\\site-packages\\graphics\\__init__.py\u001B[0m in \u001B[0;36mcheckMouse\u001B[1;34m(self)\u001B[0m\n\u001B[0;32m    325\u001B[0m         not been clicked since last call\"\"\"\n\u001B[0;32m    326\u001B[0m         \u001B[1;32mif\u001B[0m \u001B[0mself\u001B[0m\u001B[1;33m.\u001B[0m\u001B[0misClosed\u001B[0m\u001B[1;33m(\u001B[0m\u001B[1;33m)\u001B[0m\u001B[1;33m:\u001B[0m\u001B[1;33m\u001B[0m\u001B[1;33m\u001B[0m\u001B[0m\n\u001B[1;32m--> 327\u001B[1;33m             \u001B[1;32mraise\u001B[0m \u001B[0mGraphicsError\u001B[0m\u001B[1;33m(\u001B[0m\u001B[1;34m\"checkMouse in closed window\"\u001B[0m\u001B[1;33m)\u001B[0m\u001B[1;33m\u001B[0m\u001B[1;33m\u001B[0m\u001B[0m\n\u001B[0m\u001B[0;32m    328\u001B[0m         \u001B[0mself\u001B[0m\u001B[1;33m.\u001B[0m\u001B[0mupdate\u001B[0m\u001B[1;33m(\u001B[0m\u001B[1;33m)\u001B[0m\u001B[1;33m\u001B[0m\u001B[1;33m\u001B[0m\u001B[0m\n\u001B[0;32m    329\u001B[0m         \u001B[1;32mif\u001B[0m \u001B[0mself\u001B[0m\u001B[1;33m.\u001B[0m\u001B[0mmouseX\u001B[0m \u001B[1;33m!=\u001B[0m \u001B[1;32mNone\u001B[0m \u001B[1;32mand\u001B[0m \u001B[0mself\u001B[0m\u001B[1;33m.\u001B[0m\u001B[0mmouseY\u001B[0m \u001B[1;33m!=\u001B[0m \u001B[1;32mNone\u001B[0m\u001B[1;33m:\u001B[0m\u001B[1;33m\u001B[0m\u001B[1;33m\u001B[0m\u001B[0m\n",
      "\u001B[1;31mGraphicsError\u001B[0m: checkMouse in closed window"
     ]
    }
   ],
   "source": [
    "import graphics as gr\n",
    "import math as m\n",
    "SIZE_X = 800\n",
    "SIZE_Y = 800\n",
    "window = gr.GraphWin(\"Mayatnik\", SIZE_X, SIZE_Y)\n",
    "length = 300  # Длина рычага\n",
    "G = 0.01  # Сила притяжения\n",
    "mass = 10  # Масса тела\n",
    "angle = 3  # Устанавливаем начальный угол\n",
    "angle_velocity = 0  # Ускорение\n",
    "angle_accelaration = -G * m.sin(angle)  # Начальное ускорени\n",
    "center_point = gr.Point(SIZE_X / 2, SIZE_Y / 2)  # Центр холста\n",
    "coords = gr.Point(center_point.x + length * m.sin(angle),\n",
    "                  center_point.y + length * m.cos(angle))  # Начальные координаты шара\n",
    "# Фон\n",
    "rectangle = gr.Rectangle(gr.Point(0, 0), gr.Point(SIZE_X, SIZE_Y))\n",
    "rectangle.setFill('white')\n",
    "rectangle.draw(window)\n",
    "# Рисуем центр\n",
    "center = gr.Circle(center_point, 20)\n",
    "center.setFill('black')\n",
    "center.draw(window)\n",
    "# Рисуем шар\n",
    "ball = gr.Circle(gr.Point(coords.x, coords.y), mass * 5)\n",
    "ball.setFill('grey')\n",
    "ball.draw(window)\n",
    "def update_coords(coords):\n",
    "    new_point = gr.Point(center_point.x + length * m.sin(angle),\n",
    "                         center_point.y + length * m.cos(angle))\n",
    "    velocity = gr.Point(new_point.x - coords.x,\n",
    "                        new_point.y - coords.y)\n",
    "    return velocity\n",
    "def get_angle(angle, angle_accelaration, angle_velocity):\n",
    "    angle_accelaration = -G * m.sin(angle)\n",
    "    angle += angle_velocity\n",
    "    angle_velocity += angle_accelaration\n",
    "    angle_velocity *= 0.99\n",
    "    return angle, angle_accelaration, angle_velocity\n",
    "while True:\n",
    "    angle, angle_accelaration, angle_velocity = get_angle(angle, angle_accelaration, angle_velocity)\n",
    "    velocity = update_coords(ball.getCenter())\n",
    "    ball.move(velocity.x, velocity.y)\n",
    "    line = gr.Line(center_point, ball.getCenter())\n",
    "    line.draw(window)\n",
    "    gr.time.sleep(0.03)\n",
    "    line.undraw()\n",
    "    if window.checkMouse():\n",
    "        break\n",
    "window.close()"
   ]
  },
  {
   "cell_type": "code",
   "execution_count": null,
   "outputs": [],
   "source": [],
   "metadata": {
    "collapsed": false,
    "pycharm": {
     "name": "#%%\n"
    }
   }
  }
 ],
 "metadata": {
  "kernelspec": {
   "display_name": "Python 3",
   "language": "python",
   "name": "python3"
  },
  "language_info": {
   "codemirror_mode": {
    "name": "ipython",
    "version": 2
   },
   "file_extension": ".py",
   "mimetype": "text/x-python",
   "name": "python",
   "nbconvert_exporter": "python",
   "pygments_lexer": "ipython2",
   "version": "2.7.6"
  }
 },
 "nbformat": 4,
 "nbformat_minor": 0
}