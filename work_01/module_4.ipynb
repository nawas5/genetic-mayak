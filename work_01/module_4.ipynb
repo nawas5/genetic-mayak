{
 "cells": [
  {
   "cell_type": "code",
   "execution_count": null,
   "metadata": {
    "collapsed": true
   },
   "outputs": [],
   "source": [
    "import random\n",
    "import numpy as np\n",
    "\n",
    "import matplotlib.pyplot as plt\n",
    "import plotly.graph_objects as go\n",
    "import plotly.figure_factory as ff\n",
    "\n",
    "from functions import *"
   ]
  },
  {
   "cell_type": "code",
   "execution_count": null,
   "outputs": [],
   "source": [
    "# задаем число маяков\n",
    "nanchors = 4\n",
    "\n",
    "# число углов комнаты\n",
    "ncorners = 4\n",
    "\n",
    "# шаг сетки\n",
    "stepx = 0.1\n",
    "stepy = 0.1\n",
    "\n",
    "# массив координат по х и у\n",
    "xcoord = np.array((0.5, 4.5, 3.5, 0.5))\n",
    "ycoord = np.array((1.5, 2.5, 4.5, 3.5))\n",
    "\n",
    "# xcoord = np.array((0.5, 3.5, 3.5, 0.5))\n",
    "# ycoord = np.array((0.5, 0.5, 3.5, 3.5))"
   ],
   "metadata": {
    "collapsed": false,
    "pycharm": {
     "name": "#%%\n"
    }
   }
  }
 ],
 "metadata": {
  "kernelspec": {
   "display_name": "Python 3",
   "language": "python",
   "name": "python3"
  },
  "language_info": {
   "codemirror_mode": {
    "name": "ipython",
    "version": 2
   },
   "file_extension": ".py",
   "mimetype": "text/x-python",
   "name": "python",
   "nbconvert_exporter": "python",
   "pygments_lexer": "ipython2",
   "version": "2.7.6"
  }
 },
 "nbformat": 4,
 "nbformat_minor": 0
}