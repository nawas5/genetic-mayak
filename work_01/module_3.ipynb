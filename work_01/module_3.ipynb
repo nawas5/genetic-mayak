{
 "cells": [
  {
   "cell_type": "code",
   "execution_count": null,
   "metadata": {
    "collapsed": true,
    "pycharm": {
     "is_executing": true
    }
   },
   "outputs": [],
   "source": [
    "import random\n",
    "import numpy as np\n",
    "\n",
    "import matplotlib.pyplot as plt\n",
    "import plotly.graph_objects as go\n",
    "import plotly.figure_factory as ff\n",
    "\n",
    "from functions import *"
   ]
  },
  {
   "cell_type": "code",
   "execution_count": null,
   "outputs": [],
   "source": [
    "# задаем число маяков\n",
    "nanchors = 4\n",
    "\n",
    "# число углов комнаты\n",
    "ncorners = 4\n",
    "\n",
    "# шаг сетки\n",
    "stepx = 0.1\n",
    "stepy = 0.1\n",
    "\n",
    "# массив координат по х и у\n",
    "xcoord = np.array((0.5, 6.5, 3.5, 1.5))\n",
    "ycoord = np.array((1.5, 2.5, 6.5, 3.5))\n",
    "\n",
    "# xcoord = np.array((0.5, 3.5, 3.5, 0.5))\n",
    "# ycoord = np.array((0.5, 0.5, 3.5, 3.5))"
   ],
   "metadata": {
    "collapsed": false,
    "pycharm": {
     "name": "#%%\n",
     "is_executing": true
    }
   }
  },
  {
   "cell_type": "code",
   "execution_count": null,
   "outputs": [],
   "source": [
    "# формируем комнату\n",
    "room = createRoom(xcoord, ycoord)\n",
    "# формируем точки внутри помещения\n",
    "pointsIn, pointsOut = createPoints(stepx, stepy, xcoord, ycoord)\n",
    "\n",
    "# нормировка комнаты\n",
    "roomScaler, pointsInScaler, pointsOutScaler, scaler = standardScalerPoints(xcoord, ycoord, pointsIn, pointsOut)\n",
    "# нормировка по координатам\n",
    "xcoordScaler = roomScaler[:, 0]\n",
    "ycoordScaler = roomScaler[:, 1]"
   ],
   "metadata": {
    "collapsed": false,
    "pycharm": {
     "name": "#%%\n",
     "is_executing": true
    }
   }
  },
  {
   "cell_type": "code",
   "execution_count": null,
   "outputs": [],
   "source": [
    "# генерируем координаты маяков\n",
    "# можно не сравнивать со всеми точками внутри - т.к. места маяков не попадают на сетку\n",
    "coordAnchorsScaler = createCoordAnchors(nanchors, xcoordScaler, ycoordScaler)\n",
    "\n",
    "# подумать нужны ли те точки, которые мы хотим видеть pointsVisible\n",
    "DOP = estimateDOP(roomScaler, pointsInScaler, coordAnchorsScaler, nanchors, DOPmax=20)"
   ],
   "metadata": {
    "collapsed": false,
    "pycharm": {
     "name": "#%%\n",
     "is_executing": true
    }
   }
  },
  {
   "cell_type": "code",
   "execution_count": null,
   "outputs": [],
   "source": [
    "plotRoom(roomScaler, pointsInScaler, pointsOutScaler)\n",
    "plotAnchors(coordAnchorsScaler, roomScaler)\n",
    "plotDOPfactor(roomScaler, coordAnchorsScaler, DOP, pointsInScaler)"
   ],
   "metadata": {
    "collapsed": false,
    "pycharm": {
     "name": "#%%\n",
     "is_executing": true
    }
   }
  },
  {
   "cell_type": "code",
   "execution_count": null,
   "outputs": [],
   "source": [
    "polyCoordAnchorsScaler = polyCoordAnchors(xcoordScaler, ycoordScaler, roomScaler, coordAnchorsScaler)"
   ],
   "metadata": {
    "collapsed": false,
    "pycharm": {
     "name": "#%%\n",
     "is_executing": true
    }
   }
  },
  {
   "cell_type": "code",
   "execution_count": null,
   "outputs": [],
   "source": [
    "DOP = estimateDOP(roomScaler, pointsInScaler, polyCoordAnchorsScaler, nanchors, DOPmax=20)"
   ],
   "metadata": {
    "collapsed": false,
    "pycharm": {
     "name": "#%%\n",
     "is_executing": true
    }
   }
  },
  {
   "cell_type": "code",
   "execution_count": null,
   "outputs": [],
   "source": [
    "plotAnchors(polyCoordAnchorsScaler, roomScaler)\n",
    "plotDOPfactor(roomScaler, polyCoordAnchorsScaler, DOP, pointsInScaler)"
   ],
   "metadata": {
    "collapsed": false,
    "pycharm": {
     "name": "#%%\n",
     "is_executing": true
    }
   }
  },
  {
   "cell_type": "code",
   "execution_count": null,
   "outputs": [],
   "source": [],
   "metadata": {
    "collapsed": false,
    "pycharm": {
     "name": "#%%\n",
     "is_executing": true
    }
   }
  },
  {
   "cell_type": "code",
   "execution_count": null,
   "outputs": [],
   "source": [],
   "metadata": {
    "collapsed": false,
    "pycharm": {
     "name": "#%%\n",
     "is_executing": true
    }
   }
  },
  {
   "cell_type": "code",
   "execution_count": null,
   "outputs": [],
   "source": [],
   "metadata": {
    "collapsed": false,
    "pycharm": {
     "name": "#%%\n",
     "is_executing": true
    }
   }
  },
  {
   "cell_type": "code",
   "execution_count": null,
   "outputs": [],
   "source": [
    "npopul = 100     # Размер популяции\n",
    "nsurv = 20       # Количество выживших (столько лучших переходит в новую популяцию)\n",
    "nnew = npopul - nsurv # Количество новых (столько новых ботов создается)\n",
    "l = nanchors * 2         # Длина бота\n",
    "epohs = 300   # Количество эпох\n",
    "\n",
    "mut = 0.3       # Коэфициент мутаций\n",
    "\n",
    "popul = []       # Двумерный массив популяции, размерностью [n, l]. 100 ботов по 8 компонентов каждый\n",
    "val = []         # Одномерный массив значений этих ботов\n",
    "\n",
    "# Проходим по всей длине популяции\n",
    "for i in range(npopul):\n",
    "\n",
    "    bot = createCoordAnchors(nanchors, xcoordScaler, ycoordScaler)\n",
    "    bot = polyCoordAnchors(xcoordScaler, ycoordScaler, roomScaler, bot)\n",
    "    popul.append(bot)\n",
    "\n",
    "    # Пробегаемся по всем эпохам\n",
    "for it in range(epohs):\n",
    "\n",
    "    # Создаем пустой список для значений ботов\n",
    "    val = []\n",
    "\n",
    "    # Проходим по всей длине популяции\n",
    "    for bot in popul:\n",
    "        # Берем очередного бота\n",
    "        DOP = estimateDOP(roomScaler, pointsInScaler, bot, nanchors, DOPmax=20)\n",
    "        val.append(sum(DOP) / len(DOP))\n",
    "\n",
    "        # Получаем новую популяцию и сортированный список значнией\n",
    "    newpopul, sval = getSurvPopul(popul, val, nsurv, 0)\n",
    "    # Выводим 5 лучших ботов\n",
    "    print(it, \" \", [round(s,8) for s in sval[0:5]])\n",
    "    if it % 5 == 0:\n",
    "        plotAnchors(newpopul[0], roomScaler)\n",
    "\n",
    "    # Проходимся в цикле nnew-раз\n",
    "    for i in range(nnew):\n",
    "\n",
    "        # Из newpopul(новой популяции) получаем двух случайных родителей-ботов\n",
    "        botp1, botp2 = getParents(newpopul, nsurv)\n",
    "        # Массив для нового бота\n",
    "        newbot = []\n",
    "\n",
    "        # проходимся по длине бота и осуществляем смешивание/скрещивание от родителей\n",
    "        for j in range(l):\n",
    "\n",
    "            # Получаем значение для j-ого компонента бота\n",
    "            x = crossPointFrom2Parents(botp1.reshape(l), botp2.reshape(l), j)\n",
    "            # Добавляем к значению бота случайную величину, зависящую от коэфециента мутации\n",
    "            x += mut*(2*random.random() - 1.0)\n",
    "            # Добавляем новое значение в бота\n",
    "            newbot.append(x) # Добавялем новое значение в бота\n",
    "\n",
    "        # Добавляем бота в новую популяцию\n",
    "        newbot = np.array(newbot).reshape((nanchors,2))\n",
    "        newbot = polyCoordAnchors(xcoordScaler, ycoordScaler, roomScaler, newbot)\n",
    "        newpopul.append(newbot)\n",
    "\n",
    "        #(таким образом к nsurv-лучших ботов предыдующей популяции добавится nnew-новых ботов)\n",
    "\n",
    "    # Записываем в popul посчитанную новую популяцию\n",
    "    popul = newpopul"
   ],
   "metadata": {
    "collapsed": false,
    "pycharm": {
     "name": "#%%\n",
     "is_executing": true
    }
   }
  },
  {
   "cell_type": "code",
   "execution_count": null,
   "outputs": [],
   "source": [],
   "metadata": {
    "collapsed": false,
    "pycharm": {
     "name": "#%%\n",
     "is_executing": true
    }
   }
  },
  {
   "cell_type": "code",
   "execution_count": null,
   "outputs": [],
   "source": [],
   "metadata": {
    "collapsed": false,
    "pycharm": {
     "name": "#%%\n",
     "is_executing": true
    }
   }
  },
  {
   "cell_type": "code",
   "execution_count": null,
   "outputs": [],
   "source": [],
   "metadata": {
    "collapsed": false,
    "pycharm": {
     "name": "#%%\n",
     "is_executing": true
    }
   }
  },
  {
   "cell_type": "code",
   "execution_count": null,
   "outputs": [],
   "source": [],
   "metadata": {
    "collapsed": false,
    "pycharm": {
     "name": "#%%\n",
     "is_executing": true
    }
   }
  },
  {
   "cell_type": "code",
   "execution_count": null,
   "outputs": [],
   "source": [],
   "metadata": {
    "collapsed": false,
    "pycharm": {
     "name": "#%%\n"
    }
   }
  }
 ],
 "metadata": {
  "kernelspec": {
   "display_name": "Python 3",
   "language": "python",
   "name": "python3"
  },
  "language_info": {
   "codemirror_mode": {
    "name": "ipython",
    "version": 2
   },
   "file_extension": ".py",
   "mimetype": "text/x-python",
   "name": "python",
   "nbconvert_exporter": "python",
   "pygments_lexer": "ipython2",
   "version": "2.7.6"
  }
 },
 "nbformat": 4,
 "nbformat_minor": 0
}