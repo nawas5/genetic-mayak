{
 "cells": [
  {
   "cell_type": "code",
   "execution_count": null,
   "metadata": {
    "collapsed": true,
    "pycharm": {
     "name": "#%%\n"
    }
   },
   "outputs": [],
   "source": [
    "from functions import *"
   ]
  },
  {
   "cell_type": "markdown",
   "source": [
    "**Задаются параметры комнаты**"
   ],
   "metadata": {
    "collapsed": false,
    "pycharm": {
     "name": "#%% md\n"
    }
   }
  },
  {
   "cell_type": "code",
   "execution_count": null,
   "outputs": [],
   "source": [
    "# задаем число маяков\n",
    "nanchors = 4\n",
    "\n",
    "# число углов комнаты\n",
    "ncorners = 4\n",
    "\n",
    "# шаг сетки\n",
    "stepx = 0.1\n",
    "stepy = 0.1\n",
    "\n",
    "# массив координат по х и у\n",
    "xcoord = np.array((0.5, 3.5, 3.5, 0.5))\n",
    "ycoord = np.array((1.5, 1.5, 3.5, 3.5))"
   ],
   "metadata": {
    "collapsed": false,
    "pycharm": {
     "name": "#%%\n"
    }
   }
  },
  {
   "cell_type": "markdown",
   "source": [
    "**Формировка комнаты**"
   ],
   "metadata": {
    "collapsed": false,
    "pycharm": {
     "name": "#%% md\n"
    }
   }
  },
  {
   "cell_type": "code",
   "execution_count": null,
   "outputs": [],
   "source": [
    "# формируем комнату\n",
    "room = createRoom(xcoord, ycoord)\n",
    "# формируем точки внутри помещения\n",
    "pointsIn, pointsOut = createPoints(stepx, stepy, xcoord, ycoord)"
   ],
   "metadata": {
    "collapsed": false,
    "pycharm": {
     "name": "#%%\n"
    }
   }
  },
  {
   "cell_type": "markdown",
   "source": [
    "**Нормировка комнаты**"
   ],
   "metadata": {
    "collapsed": false,
    "pycharm": {
     "name": "#%% md\n"
    }
   }
  },
  {
   "cell_type": "code",
   "execution_count": null,
   "outputs": [],
   "source": [
    "# нормировка комнаты\n",
    "roomScaler, pointsInScaler, pointsOutScaler, scaler = standardScalerPoints(xcoord, ycoord, pointsIn, pointsOut)\n",
    "# нормировка по координатам\n",
    "xcoordScaler = roomScaler[:, 0]\n",
    "ycoordScaler = roomScaler[:, 1]"
   ],
   "metadata": {
    "collapsed": false,
    "pycharm": {
     "name": "#%%\n"
    }
   }
  },
  {
   "cell_type": "markdown",
   "source": [
    "**Генерация координат маяков**"
   ],
   "metadata": {
    "collapsed": false,
    "pycharm": {
     "name": "#%% md\n"
    }
   }
  },
  {
   "cell_type": "code",
   "execution_count": null,
   "outputs": [],
   "source": [
    "# генерируем координаты маяков\n",
    "# можно не сравнивать со всеми точками внутри - т.к. места маяков не попадают на сетку\n",
    "coordAnchorsScaler = createCoordAnchors(nanchors, xcoordScaler, ycoordScaler)"
   ],
   "metadata": {
    "collapsed": false,
    "pycharm": {
     "name": "#%%\n"
    }
   }
  },
  {
   "cell_type": "markdown",
   "source": [
    "**Расчет ДОП**"
   ],
   "metadata": {
    "collapsed": false,
    "pycharm": {
     "name": "#%% md\n"
    }
   }
  },
  {
   "cell_type": "code",
   "execution_count": null,
   "outputs": [],
   "source": [
    "# подумать нужны ли те точки, которые мы хотим видеть pointsVisible\n",
    "DOP = estimateDOP(roomScaler, pointsInScaler, coordAnchorsScaler, nanchors, DOPmax=20)"
   ],
   "metadata": {
    "collapsed": false,
    "pycharm": {
     "name": "#%%\n"
    }
   }
  },
  {
   "cell_type": "markdown",
   "source": [
    "Добавить функцию, которая считает площадь образующих треугольников между собой - максимизация\n",
    "Может домножение на какой-либо значимый коэффициент\n",
    "Целевая функция\n",
    "Многокритериальный выбор - задача векторной оптимизации\n",
    "Допустимая область решений\n",
    "Существование решения, буквально максимизирующего (или минимизирующего) одновременно все целевые функции, является редким исключением.\n",
    "Отсюда следует, что, во-первых, в теории многокритериальных задач понятие оптимальности получает различные и притом нетривиальные истолкования, а, во-вторых, то, что многокритериальная задача в общем случае решается с привлечением неформальной субъективной информации того, кто принимает окончательное решение или по терминологии теории принятия решений – лица, принимающего решения (ЛПР).\n",
    "Первый критерий - минимизация ДОП\n",
    "Второй критерий - максимум площади\n",
    "Число маяков которые видят друг друга? Или по числу точек, которые видят маяки? Но это уже производная от геометрического фактора и излишняя штука\n",
    "Ставить определенную оценку методу в конце\n",
    "\n",
    "Байесовская оптимизация\n",
    "Описание\n",
    "Математика, которая стоит за байесовской оптимизацией (далее — БО) — это вопрос отдельной работы. Ключевым для нас является тот факт, что БО — это некоторое улучшение случайного перебора по сетке, который пытается выделить область внутри нее, где вероятность получить экстремальное значение выше и, соответственно, можно чаще генерировать точки в этих областях для поиска решения.\n",
    "\n",
    "HyperOpt, Optuna и BayesianOptimization — популярные Python библиотеки, использующие данный подход. И это, естественно, не полный список. Чаще всего сейчас перечисленные библиотеки используются для подбора гиперпараметров прогнозных моделей, но мощь данных инструментов можно использовать и для задачи, поставленной в разделе Модуль оптимизации.\n",
    "\n",
    "Переход к однокритериальной оптимизации позволяет воспользоваться более изученным и богатым аппаратом оптимизации. Но применение декомпозиции не всегда возможно, а если переход получается выполнить, то чаще всего это приводит к ограничению общности задачи.\n",
    "\n",
    "Если вылетает сдвигать на границу\n",
    "Генерация целочисленных"
   ],
   "metadata": {
    "collapsed": false,
    "pycharm": {
     "name": "#%% md\n"
    }
   }
  },
  {
   "cell_type": "markdown",
   "source": [
    "**Начало генетического алгоритма**"
   ],
   "metadata": {
    "collapsed": false,
    "pycharm": {
     "name": "#%% md\n"
    }
   }
  },
  {
   "cell_type": "code",
   "execution_count": null,
   "outputs": [],
   "source": [],
   "metadata": {
    "collapsed": false,
    "pycharm": {
     "name": "#%%\n"
    }
   }
  }
 ],
 "metadata": {
  "kernelspec": {
   "display_name": "Python 3",
   "language": "python",
   "name": "python3"
  },
  "language_info": {
   "codemirror_mode": {
    "name": "ipython",
    "version": 2
   },
   "file_extension": ".py",
   "mimetype": "text/x-python",
   "name": "python",
   "nbconvert_exporter": "python",
   "pygments_lexer": "ipython2",
   "version": "2.7.6"
  }
 },
 "nbformat": 4,
 "nbformat_minor": 0
}